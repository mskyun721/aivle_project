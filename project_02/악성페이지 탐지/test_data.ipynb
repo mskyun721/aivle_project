{
 "cells": [
  {
   "cell_type": "code",
   "execution_count": 40,
   "metadata": {},
   "outputs": [],
   "source": [
    "import numpy as np\n",
    "import pandas as pd\n",
    "import matplotlib.pyplot as plt\n",
    "import seaborn as sns\n",
    "import requests, json\n",
    "\n",
    "from sklearn.metrics import *\n",
    "from sklearn.model_selection import train_test_split, learning_curve\n",
    "from sklearn.preprocessing import *\n",
    "from sklearn.model_selection import GridSearchCV, RandomizedSearchCV\n",
    "\n",
    "# 크롤링\n",
    "from bs4 import BeautifulSoup\n",
    "import openpyxl\n",
    "\n",
    "# Linear, Logistic\n",
    "from sklearn.linear_model import LinearRegression, LogisticRegression\n",
    "\n",
    "# knn\n",
    "from sklearn.neighbors import KNeighborsClassifier, KNeighborsRegressor\n",
    "\n",
    "# decision\n",
    "from sklearn.tree import DecisionTreeClassifier, DecisionTreeRegressor\n",
    "\n",
    "# svm\n",
    "from sklearn.svm import SVC, SVR\n",
    "\n",
    "# bagging\n",
    "from sklearn.ensemble import RandomForestClassifier, RandomForestRegressor\n",
    "\n",
    "# boosting\n",
    "from xgboost import XGBClassifier, XGBRegressor"
   ]
  },
  {
   "cell_type": "code",
   "execution_count": 41,
   "metadata": {},
   "outputs": [
    {
     "data": {
      "text/plain": [
       "(2441, 24)"
      ]
     },
     "execution_count": 41,
     "metadata": {},
     "output_type": "execute_result"
    }
   ],
   "source": [
    "test = pd.read_csv('test_dataset_v01.csv')\n",
    "test.shape"
   ]
  },
  {
   "cell_type": "code",
   "execution_count": 42,
   "metadata": {},
   "outputs": [],
   "source": [
    "test.loc[test['url_domain_len'].isna(), 'url_domain_len'] = test['url_hostname_len']"
   ]
  },
  {
   "cell_type": "code",
   "execution_count": 43,
   "metadata": {},
   "outputs": [],
   "source": [
    "drop_col = ['url_chinese_present', \"html_num_tags('applet')\", 'Unnamed: 0', 'url_hostname_len']\n",
    "test = test.drop(drop_col, axis=1)"
   ]
  },
  {
   "cell_type": "code",
   "execution_count": 44,
   "metadata": {},
   "outputs": [
    {
     "data": {
      "text/plain": [
       "url_len                      0\n",
       "url_num_hyphens_dom          0\n",
       "url_path_len               466\n",
       "url_domain_len             101\n",
       "url_num_dots                 0\n",
       "url_num_underscores          0\n",
       "url_query_len                0\n",
       "url_num_query_para           0\n",
       "url_ip_present               0\n",
       "url_entropy                  0\n",
       "url_port                     0\n",
       "html_num_tags('iframe')      0\n",
       "html_num_tags('script')    467\n",
       "html_num_tags('embed')       0\n",
       "html_num_tags('object')      0\n",
       "html_num_tags('div')         0\n",
       "html_num_tags('head')        0\n",
       "html_num_tags('body')        0\n",
       "html_num_tags('form')      467\n",
       "html_num_tags('a')         461\n",
       "dtype: int64"
      ]
     },
     "execution_count": 44,
     "metadata": {},
     "output_type": "execute_result"
    }
   ],
   "source": [
    "test.isna().sum()"
   ]
  },
  {
   "cell_type": "code",
   "execution_count": 45,
   "metadata": {},
   "outputs": [],
   "source": [
    "test[\"html_num_tags('form')\"] = test[\"html_num_tags('form')\"].fillna(1)"
   ]
  },
  {
   "cell_type": "code",
   "execution_count": 46,
   "metadata": {},
   "outputs": [],
   "source": [
    "test['url_domain_len'] = test['url_domain_len'].fillna(29)"
   ]
  },
  {
   "cell_type": "code",
   "execution_count": 47,
   "metadata": {},
   "outputs": [],
   "source": [
    "test[\"html_num_tags('a')\"] = test[\"html_num_tags('a')\"].fillna(test[\"html_num_tags('a')\"].mean())"
   ]
  },
  {
   "cell_type": "code",
   "execution_count": 48,
   "metadata": {},
   "outputs": [],
   "source": [
    "test['url_path_len'] = test['url_path_len'].fillna(test['url_path_len'].mean())"
   ]
  },
  {
   "cell_type": "code",
   "execution_count": 49,
   "metadata": {},
   "outputs": [],
   "source": [
    "test[\"html_num_tags('script')\"] = test[\"html_num_tags('script')\"].fillna(test[\"html_num_tags('script')\"].mean())"
   ]
  },
  {
   "cell_type": "code",
   "execution_count": 50,
   "metadata": {},
   "outputs": [],
   "source": [
    "test.to_csv('test_val_2.csv', index=False)"
   ]
  },
  {
   "cell_type": "code",
   "execution_count": 51,
   "metadata": {},
   "outputs": [],
   "source": [
    "import scipy.stats as spst"
   ]
  },
  {
   "cell_type": "code",
   "execution_count": 52,
   "metadata": {},
   "outputs": [],
   "source": [
    "def plt_spst(x_, y_):\n",
    "    sns.regplot(data=test, x=x_, y=y_)\n",
    "    plt.show()\n",
    "    # result = spst.pearsonr(test[x_], test[y_])\n",
    "    # print(result)"
   ]
  },
  {
   "cell_type": "code",
   "execution_count": 53,
   "metadata": {},
   "outputs": [
    {
     "data": {
      "text/plain": [
       "array([1, 3, 0, 2], dtype=int64)"
      ]
     },
     "execution_count": 53,
     "metadata": {},
     "output_type": "execute_result"
    }
   ],
   "source": [
    "test[\"html_num_tags('body')\"].unique()"
   ]
  },
  {
   "cell_type": "code",
   "execution_count": 54,
   "metadata": {},
   "outputs": [
    {
     "data": {
      "text/html": [
       "<div>\n",
       "<style scoped>\n",
       "    .dataframe tbody tr th:only-of-type {\n",
       "        vertical-align: middle;\n",
       "    }\n",
       "\n",
       "    .dataframe tbody tr th {\n",
       "        vertical-align: top;\n",
       "    }\n",
       "\n",
       "    .dataframe thead th {\n",
       "        text-align: right;\n",
       "    }\n",
       "</style>\n",
       "<table border=\"1\" class=\"dataframe\">\n",
       "  <thead>\n",
       "    <tr style=\"text-align: right;\">\n",
       "      <th></th>\n",
       "      <th>url_len</th>\n",
       "      <th>url_num_hyphens_dom</th>\n",
       "      <th>url_path_len</th>\n",
       "      <th>url_domain_len</th>\n",
       "      <th>url_num_dots</th>\n",
       "      <th>url_num_underscores</th>\n",
       "      <th>url_query_len</th>\n",
       "      <th>url_num_query_para</th>\n",
       "      <th>url_ip_present</th>\n",
       "      <th>url_entropy</th>\n",
       "      <th>url_port</th>\n",
       "      <th>html_num_tags('iframe')</th>\n",
       "      <th>html_num_tags('script')</th>\n",
       "      <th>html_num_tags('embed')</th>\n",
       "      <th>html_num_tags('object')</th>\n",
       "      <th>html_num_tags('div')</th>\n",
       "      <th>html_num_tags('head')</th>\n",
       "      <th>html_num_tags('body')</th>\n",
       "      <th>html_num_tags('form')</th>\n",
       "      <th>html_num_tags('a')</th>\n",
       "    </tr>\n",
       "  </thead>\n",
       "  <tbody>\n",
       "  </tbody>\n",
       "</table>\n",
       "</div>"
      ],
      "text/plain": [
       "Empty DataFrame\n",
       "Columns: [url_len, url_num_hyphens_dom, url_path_len, url_domain_len, url_num_dots, url_num_underscores, url_query_len, url_num_query_para, url_ip_present, url_entropy, url_port, html_num_tags('iframe'), html_num_tags('script'), html_num_tags('embed'), html_num_tags('object'), html_num_tags('div'), html_num_tags('head'), html_num_tags('body'), html_num_tags('form'), html_num_tags('a')]\n",
       "Index: []"
      ]
     },
     "execution_count": 54,
     "metadata": {},
     "output_type": "execute_result"
    }
   ],
   "source": [
    "test.loc[(test['url_query_len'] == 0) & (test['url_num_query_para'] == 0) & test[\"url_path_len\"].isna()]\n",
    "test.loc[(test['url_query_len'] == 0) & test[\"url_path_len\"].isna()]\n",
    "# test.loc[(test['url_query_len'] == 0) & test[\"url_path_len\"].isna(), 'url_path_len'] = 33"
   ]
  },
  {
   "cell_type": "code",
   "execution_count": 55,
   "metadata": {},
   "outputs": [],
   "source": [
    "test['url_path_len'] = test['url_path_len'].fillna(27)"
   ]
  },
  {
   "cell_type": "code",
   "execution_count": 56,
   "metadata": {},
   "outputs": [],
   "source": [
    "test.loc[(test['url_query_len'] == 0) & test[\"html_num_tags('script')\"].isna()]\n",
    "test.loc[(test['url_query_len'] == 0) & test[\"html_num_tags('script')\"].isna(), \"html_num_tags('script')\"] = 17"
   ]
  },
  {
   "cell_type": "code",
   "execution_count": 57,
   "metadata": {},
   "outputs": [],
   "source": [
    "test[\"html_num_tags('script')\"] = test[\"html_num_tags('script')\"].fillna(7)"
   ]
  },
  {
   "cell_type": "code",
   "execution_count": 58,
   "metadata": {},
   "outputs": [],
   "source": [
    "test.loc[(test['url_query_len'] == 0) & test[\"html_num_tags('a')\"].isna()]\n",
    "test.loc[(test['url_query_len'] == 0) & test[\"html_num_tags('a')\"].isna(), \"html_num_tags('a')\"] = 100"
   ]
  },
  {
   "cell_type": "code",
   "execution_count": 59,
   "metadata": {},
   "outputs": [],
   "source": [
    "test[\"html_num_tags('a')\"] = test[\"html_num_tags('a')\"].fillna(18)"
   ]
  },
  {
   "cell_type": "code",
   "execution_count": 60,
   "metadata": {},
   "outputs": [
    {
     "data": {
      "text/html": [
       "<div>\n",
       "<style scoped>\n",
       "    .dataframe tbody tr th:only-of-type {\n",
       "        vertical-align: middle;\n",
       "    }\n",
       "\n",
       "    .dataframe tbody tr th {\n",
       "        vertical-align: top;\n",
       "    }\n",
       "\n",
       "    .dataframe thead th {\n",
       "        text-align: right;\n",
       "    }\n",
       "</style>\n",
       "<table border=\"1\" class=\"dataframe\">\n",
       "  <thead>\n",
       "    <tr style=\"text-align: right;\">\n",
       "      <th></th>\n",
       "      <th>url_len</th>\n",
       "      <th>url_num_hyphens_dom</th>\n",
       "      <th>url_path_len</th>\n",
       "      <th>url_domain_len</th>\n",
       "      <th>url_num_dots</th>\n",
       "      <th>url_num_underscores</th>\n",
       "      <th>url_query_len</th>\n",
       "      <th>url_num_query_para</th>\n",
       "      <th>url_ip_present</th>\n",
       "      <th>url_entropy</th>\n",
       "      <th>url_port</th>\n",
       "      <th>html_num_tags('iframe')</th>\n",
       "      <th>html_num_tags('script')</th>\n",
       "      <th>html_num_tags('embed')</th>\n",
       "      <th>html_num_tags('object')</th>\n",
       "      <th>html_num_tags('div')</th>\n",
       "      <th>html_num_tags('head')</th>\n",
       "      <th>html_num_tags('body')</th>\n",
       "      <th>html_num_tags('form')</th>\n",
       "      <th>html_num_tags('a')</th>\n",
       "    </tr>\n",
       "  </thead>\n",
       "  <tbody>\n",
       "  </tbody>\n",
       "</table>\n",
       "</div>"
      ],
      "text/plain": [
       "Empty DataFrame\n",
       "Columns: [url_len, url_num_hyphens_dom, url_path_len, url_domain_len, url_num_dots, url_num_underscores, url_query_len, url_num_query_para, url_ip_present, url_entropy, url_port, html_num_tags('iframe'), html_num_tags('script'), html_num_tags('embed'), html_num_tags('object'), html_num_tags('div'), html_num_tags('head'), html_num_tags('body'), html_num_tags('form'), html_num_tags('a')]\n",
       "Index: []"
      ]
     },
     "execution_count": 60,
     "metadata": {},
     "output_type": "execute_result"
    }
   ],
   "source": [
    "test.loc[(test['url_domain_len'] == 0) & test[\"url_domain_len\"].isna()]\n",
    "# test.loc[(test['url_domain_len'] == 0) & test[\"url_domain_len\"].isna(), \"url_domain_len\"] = 100"
   ]
  },
  {
   "cell_type": "code",
   "execution_count": 61,
   "metadata": {},
   "outputs": [],
   "source": [
    "test.loc[(test['url_query_len'] == 0) & test[\"html_num_tags('form')\"].isna()]\n",
    "test.loc[(test['url_query_len'] == 0) & test[\"html_num_tags('form')\"].isna(), \"html_num_tags('form')\"] = 2"
   ]
  },
  {
   "cell_type": "code",
   "execution_count": 62,
   "metadata": {},
   "outputs": [
    {
     "data": {
      "text/html": [
       "<div>\n",
       "<style scoped>\n",
       "    .dataframe tbody tr th:only-of-type {\n",
       "        vertical-align: middle;\n",
       "    }\n",
       "\n",
       "    .dataframe tbody tr th {\n",
       "        vertical-align: top;\n",
       "    }\n",
       "\n",
       "    .dataframe thead th {\n",
       "        text-align: right;\n",
       "    }\n",
       "</style>\n",
       "<table border=\"1\" class=\"dataframe\">\n",
       "  <thead>\n",
       "    <tr style=\"text-align: right;\">\n",
       "      <th></th>\n",
       "      <th>url_len</th>\n",
       "      <th>url_num_hyphens_dom</th>\n",
       "      <th>url_path_len</th>\n",
       "      <th>url_domain_len</th>\n",
       "      <th>url_num_dots</th>\n",
       "      <th>url_num_underscores</th>\n",
       "      <th>url_query_len</th>\n",
       "      <th>url_num_query_para</th>\n",
       "      <th>url_ip_present</th>\n",
       "      <th>url_entropy</th>\n",
       "      <th>url_port</th>\n",
       "      <th>html_num_tags('iframe')</th>\n",
       "      <th>html_num_tags('script')</th>\n",
       "      <th>html_num_tags('embed')</th>\n",
       "      <th>html_num_tags('object')</th>\n",
       "      <th>html_num_tags('div')</th>\n",
       "      <th>html_num_tags('head')</th>\n",
       "      <th>html_num_tags('body')</th>\n",
       "      <th>html_num_tags('form')</th>\n",
       "      <th>html_num_tags('a')</th>\n",
       "    </tr>\n",
       "  </thead>\n",
       "  <tbody>\n",
       "  </tbody>\n",
       "</table>\n",
       "</div>"
      ],
      "text/plain": [
       "Empty DataFrame\n",
       "Columns: [url_len, url_num_hyphens_dom, url_path_len, url_domain_len, url_num_dots, url_num_underscores, url_query_len, url_num_query_para, url_ip_present, url_entropy, url_port, html_num_tags('iframe'), html_num_tags('script'), html_num_tags('embed'), html_num_tags('object'), html_num_tags('div'), html_num_tags('head'), html_num_tags('body'), html_num_tags('form'), html_num_tags('a')]\n",
       "Index: []"
      ]
     },
     "execution_count": 62,
     "metadata": {},
     "output_type": "execute_result"
    }
   ],
   "source": [
    "test.loc[(test['url_num_hyphens_dom'] <= 1) & (test[\"html_num_tags('div')\"] >= 60) & test[\"url_path_len\"].isna()]\n",
    "test.loc[(test['url_num_hyphens_dom'] >= 1) & (test[\"html_num_tags('div')\"] <= 50) & test[\"url_path_len\"].isna()]\n",
    "test.loc[(test['url_num_hyphens_dom'] <= 1) & (test[\"html_num_tags('div')\"] >= 60) & test[\"html_num_tags('script')\"].isna()]\n",
    "test.loc[(test['url_num_hyphens_dom'] >= 1) & (test[\"html_num_tags('div')\"] <= 50) & test[\"html_num_tags('script')\"].isna()]\n",
    "test.loc[(test['url_num_hyphens_dom'] <= 1) & (test[\"html_num_tags('div')\"] >= 60) & test[\"html_num_tags('a')\"].isna()]\n",
    "test.loc[(test['url_num_hyphens_dom'] >= 1) & (test[\"html_num_tags('div')\"] <= 50) & test[\"html_num_tags('a')\"].isna()]"
   ]
  },
  {
   "cell_type": "code",
   "execution_count": 63,
   "metadata": {},
   "outputs": [],
   "source": [
    "test.loc[(test['url_num_hyphens_dom'] <= 1) & (test[\"html_num_tags('div')\"] >= 60) & test[\"url_path_len\"].isna()]\n",
    "test.loc[(test['url_num_hyphens_dom'] <= 1) & (test[\"html_num_tags('div')\"] >= 60) & test[\"url_path_len\"].isna(), \"url_path_len\"] = 37"
   ]
  },
  {
   "cell_type": "code",
   "execution_count": 64,
   "metadata": {},
   "outputs": [],
   "source": [
    "test.loc[(test['url_num_hyphens_dom'] >= 1) & (test[\"html_num_tags('div')\"] <= 50) & test[\"url_path_len\"].isna()]\n",
    "test.loc[(test['url_num_hyphens_dom'] >= 1) & (test[\"html_num_tags('div')\"] <= 50) & test[\"url_path_len\"].isna(), \"url_path_len\"] = 21"
   ]
  },
  {
   "cell_type": "code",
   "execution_count": 65,
   "metadata": {},
   "outputs": [],
   "source": [
    "test.loc[(test['url_num_hyphens_dom'] <= 1) & (test[\"html_num_tags('div')\"] >= 60) & test[\"url_domain_len\"].isna()]\n",
    "test.loc[(test['url_num_hyphens_dom'] <= 1) & (test[\"html_num_tags('div')\"] >= 60) & test[\"url_domain_len\"].isna(), \"url_domain_len\"] = 18"
   ]
  },
  {
   "cell_type": "code",
   "execution_count": 66,
   "metadata": {},
   "outputs": [],
   "source": [
    "test.loc[(test['url_num_hyphens_dom'] >= 1) & (test[\"html_num_tags('div')\"] <= 50) & test[\"url_domain_len\"].isna()]\n",
    "test.loc[(test['url_num_hyphens_dom'] >= 1) & (test[\"html_num_tags('div')\"] <= 50) & test[\"url_domain_len\"].isna(), \"url_domain_len\"] = 29"
   ]
  },
  {
   "cell_type": "code",
   "execution_count": 67,
   "metadata": {},
   "outputs": [],
   "source": [
    "test.loc[(test['url_num_hyphens_dom'] <= 1) & (test[\"html_num_tags('div')\"] >= 60) & test[\"html_num_tags('script')\"].isna()]\n",
    "test.loc[(test['url_num_hyphens_dom'] <= 1) & (test[\"html_num_tags('div')\"] >= 60) & test[\"html_num_tags('script')\"].isna(), \"html_num_tags('script')\"] = 17"
   ]
  },
  {
   "cell_type": "code",
   "execution_count": 68,
   "metadata": {},
   "outputs": [],
   "source": [
    "test.loc[(test['url_num_hyphens_dom'] >= 1) & (test[\"html_num_tags('div')\"] <= 50) & test[\"html_num_tags('script')\"].isna()]\n",
    "test.loc[(test['url_num_hyphens_dom'] >= 1) & (test[\"html_num_tags('div')\"] <= 50) & test[\"html_num_tags('script')\"].isna(), \"html_num_tags('script')\"] = 7"
   ]
  },
  {
   "cell_type": "code",
   "execution_count": 69,
   "metadata": {},
   "outputs": [],
   "source": [
    "test.loc[(test['url_num_hyphens_dom'] <= 1) & (test[\"html_num_tags('div')\"] >= 60) & test[\"html_num_tags('a')\"].isna()]\n",
    "test.loc[(test['url_num_hyphens_dom'] <= 1) & (test[\"html_num_tags('div')\"] >= 60) & test[\"html_num_tags('a')\"].isna(), \"html_num_tags('a')\"] = 100"
   ]
  },
  {
   "cell_type": "code",
   "execution_count": 70,
   "metadata": {},
   "outputs": [],
   "source": [
    "test.loc[(test['url_num_hyphens_dom'] <= 1) & (test[\"html_num_tags('div')\"] <= 50) & test[\"html_num_tags('a')\"].isna()]\n",
    "test.loc[(test['url_num_hyphens_dom'] <= 1) & (test[\"html_num_tags('div')\"] <= 50) & test[\"html_num_tags('a')\"].isna(), \"html_num_tags('a')\"] = 23"
   ]
  },
  {
   "cell_type": "code",
   "execution_count": 71,
   "metadata": {},
   "outputs": [
    {
     "data": {
      "image/png": "[encoded data removed]",
      "text/plain": [
       "<Figure size 640x480 with 1 Axes>"
      ]
     },
     "metadata": {},
     "output_type": "display_data"
    }
   ],
   "source": [
    "# 노선, 정류장 상관관계\n",
    "sns.regplot(data=test, x='url_query_len', y=\"url_path_len\")\n",
    "plt.show()"
   ]
  },
  {
   "cell_type": "code",
   "execution_count": 72,
   "metadata": {},
   "outputs": [
    {
     "data": {
      "image/png": "[encoded data removed]",
      "text/plain": [
       "<Figure size 640x480 with 1 Axes>"
      ]
     },
     "metadata": {},
     "output_type": "display_data"
    }
   ],
   "source": [
    "# 노선, 정류장 상관관계\n",
    "sns.regplot(data=test, x='url_query_len', y=\"url_domain_len\")\n",
    "plt.show()"
   ]
  },
  {
   "cell_type": "code",
   "execution_count": 73,
   "metadata": {},
   "outputs": [
    {
     "data": {
      "image/png": "[encoded data removed]",
      "text/plain": [
       "<Figure size 640x480 with 1 Axes>"
      ]
     },
     "metadata": {},
     "output_type": "display_data"
    }
   ],
   "source": [
    "# 노선, 정류장 상관관계\n",
    "sns.regplot(data=test, x='url_query_len', y=\"html_num_tags('script')\")\n",
    "plt.show()"
   ]
  },
  {
   "cell_type": "code",
   "execution_count": 74,
   "metadata": {},
   "outputs": [
    {
     "data": {
      "text/plain": [
       "url_len                    0\n",
       "url_num_hyphens_dom        0\n",
       "url_path_len               0\n",
       "url_domain_len             0\n",
       "url_num_dots               0\n",
       "url_num_underscores        0\n",
       "url_query_len              0\n",
       "url_num_query_para         0\n",
       "url_ip_present             0\n",
       "url_entropy                0\n",
       "url_port                   0\n",
       "html_num_tags('iframe')    0\n",
       "html_num_tags('script')    0\n",
       "html_num_tags('embed')     0\n",
       "html_num_tags('object')    0\n",
       "html_num_tags('div')       0\n",
       "html_num_tags('head')      0\n",
       "html_num_tags('body')      0\n",
       "html_num_tags('form')      0\n",
       "html_num_tags('a')         0\n",
       "dtype: int64"
      ]
     },
     "execution_count": 74,
     "metadata": {},
     "output_type": "execute_result"
    }
   ],
   "source": [
    "test.isna().sum()"
   ]
  },
  {
   "cell_type": "code",
   "execution_count": 75,
   "metadata": {},
   "outputs": [
    {
     "data": {
      "text/plain": [
       "array([ 1.,  0.,  3.,  4.,  2.,  5., 12., 19.,  6.,  7.])"
      ]
     },
     "execution_count": 75,
     "metadata": {},
     "output_type": "execute_result"
    }
   ],
   "source": [
    "test[\"html_num_tags('form')\"].unique()"
   ]
  },
  {
   "cell_type": "code",
   "execution_count": 76,
   "metadata": {},
   "outputs": [
    {
     "data": {
      "text/plain": [
       "(2441, 20)"
      ]
     },
     "execution_count": 76,
     "metadata": {},
     "output_type": "execute_result"
    }
   ],
   "source": [
    "test.shape"
   ]
  },
  {
   "cell_type": "code",
   "execution_count": 77,
   "metadata": {},
   "outputs": [
    {
     "data": {
      "text/html": [
       "<div>\n",
       "<style scoped>\n",
       "    .dataframe tbody tr th:only-of-type {\n",
       "        vertical-align: middle;\n",
       "    }\n",
       "\n",
       "    .dataframe tbody tr th {\n",
       "        vertical-align: top;\n",
       "    }\n",
       "\n",
       "    .dataframe thead th {\n",
       "        text-align: right;\n",
       "    }\n",
       "</style>\n",
       "<table border=\"1\" class=\"dataframe\">\n",
       "  <thead>\n",
       "    <tr style=\"text-align: right;\">\n",
       "      <th></th>\n",
       "      <th>url_len</th>\n",
       "      <th>url_num_hyphens_dom</th>\n",
       "      <th>url_path_len</th>\n",
       "      <th>url_domain_len</th>\n",
       "      <th>url_num_dots</th>\n",
       "      <th>url_num_underscores</th>\n",
       "      <th>url_query_len</th>\n",
       "      <th>url_num_query_para</th>\n",
       "      <th>url_ip_present</th>\n",
       "      <th>url_entropy</th>\n",
       "      <th>url_port</th>\n",
       "      <th>html_num_tags('iframe')</th>\n",
       "      <th>html_num_tags('script')</th>\n",
       "      <th>html_num_tags('embed')</th>\n",
       "      <th>html_num_tags('object')</th>\n",
       "      <th>html_num_tags('div')</th>\n",
       "      <th>html_num_tags('head')</th>\n",
       "      <th>html_num_tags('body')</th>\n",
       "      <th>html_num_tags('form')</th>\n",
       "      <th>html_num_tags('a')</th>\n",
       "    </tr>\n",
       "  </thead>\n",
       "  <tbody>\n",
       "    <tr>\n",
       "      <th>0</th>\n",
       "      <td>97</td>\n",
       "      <td>0</td>\n",
       "      <td>80.000000</td>\n",
       "      <td>17.0</td>\n",
       "      <td>4</td>\n",
       "      <td>0</td>\n",
       "      <td>0</td>\n",
       "      <td>0</td>\n",
       "      <td>0</td>\n",
       "      <td>4.844913</td>\n",
       "      <td>0</td>\n",
       "      <td>0</td>\n",
       "      <td>5.000000</td>\n",
       "      <td>0</td>\n",
       "      <td>0</td>\n",
       "      <td>12</td>\n",
       "      <td>1</td>\n",
       "      <td>1</td>\n",
       "      <td>1.0</td>\n",
       "      <td>3.000000</td>\n",
       "    </tr>\n",
       "    <tr>\n",
       "      <th>1</th>\n",
       "      <td>37</td>\n",
       "      <td>0</td>\n",
       "      <td>22.000000</td>\n",
       "      <td>15.0</td>\n",
       "      <td>3</td>\n",
       "      <td>1</td>\n",
       "      <td>0</td>\n",
       "      <td>0</td>\n",
       "      <td>0</td>\n",
       "      <td>4.246157</td>\n",
       "      <td>0</td>\n",
       "      <td>1</td>\n",
       "      <td>8.763931</td>\n",
       "      <td>0</td>\n",
       "      <td>0</td>\n",
       "      <td>158</td>\n",
       "      <td>1</td>\n",
       "      <td>1</td>\n",
       "      <td>1.0</td>\n",
       "      <td>66.969697</td>\n",
       "    </tr>\n",
       "    <tr>\n",
       "      <th>2</th>\n",
       "      <td>44</td>\n",
       "      <td>0</td>\n",
       "      <td>27.541772</td>\n",
       "      <td>20.0</td>\n",
       "      <td>3</td>\n",
       "      <td>3</td>\n",
       "      <td>0</td>\n",
       "      <td>0</td>\n",
       "      <td>0</td>\n",
       "      <td>4.612835</td>\n",
       "      <td>0</td>\n",
       "      <td>0</td>\n",
       "      <td>6.000000</td>\n",
       "      <td>3</td>\n",
       "      <td>3</td>\n",
       "      <td>34</td>\n",
       "      <td>1</td>\n",
       "      <td>1</td>\n",
       "      <td>0.0</td>\n",
       "      <td>136.000000</td>\n",
       "    </tr>\n",
       "    <tr>\n",
       "      <th>3</th>\n",
       "      <td>40</td>\n",
       "      <td>0</td>\n",
       "      <td>14.000000</td>\n",
       "      <td>26.0</td>\n",
       "      <td>2</td>\n",
       "      <td>0</td>\n",
       "      <td>0</td>\n",
       "      <td>0</td>\n",
       "      <td>0</td>\n",
       "      <td>4.238521</td>\n",
       "      <td>0</td>\n",
       "      <td>0</td>\n",
       "      <td>8.763931</td>\n",
       "      <td>0</td>\n",
       "      <td>0</td>\n",
       "      <td>29</td>\n",
       "      <td>1</td>\n",
       "      <td>1</td>\n",
       "      <td>1.0</td>\n",
       "      <td>2.000000</td>\n",
       "    </tr>\n",
       "    <tr>\n",
       "      <th>4</th>\n",
       "      <td>43</td>\n",
       "      <td>2</td>\n",
       "      <td>27.541772</td>\n",
       "      <td>26.0</td>\n",
       "      <td>2</td>\n",
       "      <td>0</td>\n",
       "      <td>0</td>\n",
       "      <td>0</td>\n",
       "      <td>0</td>\n",
       "      <td>4.240669</td>\n",
       "      <td>0</td>\n",
       "      <td>0</td>\n",
       "      <td>8.763931</td>\n",
       "      <td>0</td>\n",
       "      <td>0</td>\n",
       "      <td>41</td>\n",
       "      <td>1</td>\n",
       "      <td>1</td>\n",
       "      <td>1.0</td>\n",
       "      <td>66.969697</td>\n",
       "    </tr>\n",
       "    <tr>\n",
       "      <th>...</th>\n",
       "      <td>...</td>\n",
       "      <td>...</td>\n",
       "      <td>...</td>\n",
       "      <td>...</td>\n",
       "      <td>...</td>\n",
       "      <td>...</td>\n",
       "      <td>...</td>\n",
       "      <td>...</td>\n",
       "      <td>...</td>\n",
       "      <td>...</td>\n",
       "      <td>...</td>\n",
       "      <td>...</td>\n",
       "      <td>...</td>\n",
       "      <td>...</td>\n",
       "      <td>...</td>\n",
       "      <td>...</td>\n",
       "      <td>...</td>\n",
       "      <td>...</td>\n",
       "      <td>...</td>\n",
       "      <td>...</td>\n",
       "    </tr>\n",
       "    <tr>\n",
       "      <th>2436</th>\n",
       "      <td>63</td>\n",
       "      <td>0</td>\n",
       "      <td>27.541772</td>\n",
       "      <td>17.0</td>\n",
       "      <td>4</td>\n",
       "      <td>2</td>\n",
       "      <td>0</td>\n",
       "      <td>0</td>\n",
       "      <td>0</td>\n",
       "      <td>4.738082</td>\n",
       "      <td>0</td>\n",
       "      <td>1</td>\n",
       "      <td>18.000000</td>\n",
       "      <td>0</td>\n",
       "      <td>0</td>\n",
       "      <td>79</td>\n",
       "      <td>1</td>\n",
       "      <td>1</td>\n",
       "      <td>1.0</td>\n",
       "      <td>119.000000</td>\n",
       "    </tr>\n",
       "    <tr>\n",
       "      <th>2437</th>\n",
       "      <td>36</td>\n",
       "      <td>0</td>\n",
       "      <td>1.000000</td>\n",
       "      <td>35.0</td>\n",
       "      <td>2</td>\n",
       "      <td>0</td>\n",
       "      <td>0</td>\n",
       "      <td>0</td>\n",
       "      <td>0</td>\n",
       "      <td>4.080351</td>\n",
       "      <td>0</td>\n",
       "      <td>0</td>\n",
       "      <td>27.000000</td>\n",
       "      <td>0</td>\n",
       "      <td>0</td>\n",
       "      <td>57</td>\n",
       "      <td>1</td>\n",
       "      <td>1</td>\n",
       "      <td>1.0</td>\n",
       "      <td>66.969697</td>\n",
       "    </tr>\n",
       "    <tr>\n",
       "      <th>2438</th>\n",
       "      <td>45</td>\n",
       "      <td>1</td>\n",
       "      <td>23.000000</td>\n",
       "      <td>22.0</td>\n",
       "      <td>2</td>\n",
       "      <td>0</td>\n",
       "      <td>0</td>\n",
       "      <td>0</td>\n",
       "      <td>0</td>\n",
       "      <td>4.359443</td>\n",
       "      <td>0</td>\n",
       "      <td>0</td>\n",
       "      <td>8.000000</td>\n",
       "      <td>0</td>\n",
       "      <td>0</td>\n",
       "      <td>199</td>\n",
       "      <td>1</td>\n",
       "      <td>1</td>\n",
       "      <td>2.0</td>\n",
       "      <td>66.969697</td>\n",
       "    </tr>\n",
       "    <tr>\n",
       "      <th>2439</th>\n",
       "      <td>24</td>\n",
       "      <td>0</td>\n",
       "      <td>10.000000</td>\n",
       "      <td>14.0</td>\n",
       "      <td>3</td>\n",
       "      <td>0</td>\n",
       "      <td>0</td>\n",
       "      <td>0</td>\n",
       "      <td>1</td>\n",
       "      <td>4.260333</td>\n",
       "      <td>0</td>\n",
       "      <td>0</td>\n",
       "      <td>3.000000</td>\n",
       "      <td>0</td>\n",
       "      <td>0</td>\n",
       "      <td>90</td>\n",
       "      <td>1</td>\n",
       "      <td>1</td>\n",
       "      <td>2.0</td>\n",
       "      <td>25.000000</td>\n",
       "    </tr>\n",
       "    <tr>\n",
       "      <th>2440</th>\n",
       "      <td>33</td>\n",
       "      <td>2</td>\n",
       "      <td>27.541772</td>\n",
       "      <td>22.0</td>\n",
       "      <td>2</td>\n",
       "      <td>0</td>\n",
       "      <td>0</td>\n",
       "      <td>0</td>\n",
       "      <td>0</td>\n",
       "      <td>4.155498</td>\n",
       "      <td>0</td>\n",
       "      <td>3</td>\n",
       "      <td>36.000000</td>\n",
       "      <td>0</td>\n",
       "      <td>0</td>\n",
       "      <td>162</td>\n",
       "      <td>1</td>\n",
       "      <td>1</td>\n",
       "      <td>4.0</td>\n",
       "      <td>213.000000</td>\n",
       "    </tr>\n",
       "  </tbody>\n",
       "</table>\n",
       "<p>2441 rows × 20 columns</p>\n",
       "</div>"
      ],
      "text/plain": [
       "      url_len  url_num_hyphens_dom  url_path_len  url_domain_len  \\\n",
       "0          97                    0     80.000000            17.0   \n",
       "1          37                    0     22.000000            15.0   \n",
       "2          44                    0     27.541772            20.0   \n",
       "3          40                    0     14.000000            26.0   \n",
       "4          43                    2     27.541772            26.0   \n",
       "...       ...                  ...           ...             ...   \n",
       "2436       63                    0     27.541772            17.0   \n",
       "2437       36                    0      1.000000            35.0   \n",
       "2438       45                    1     23.000000            22.0   \n",
       "2439       24                    0     10.000000            14.0   \n",
       "2440       33                    2     27.541772            22.0   \n",
       "\n",
       "      url_num_dots  url_num_underscores  url_query_len  url_num_query_para  \\\n",
       "0                4                    0              0                   0   \n",
       "1                3                    1              0                   0   \n",
       "2                3                    3              0                   0   \n",
       "3                2                    0              0                   0   \n",
       "4                2                    0              0                   0   \n",
       "...            ...                  ...            ...                 ...   \n",
       "2436             4                    2              0                   0   \n",
       "2437             2                    0              0                   0   \n",
       "2438             2                    0              0                   0   \n",
       "2439             3                    0              0                   0   \n",
       "2440             2                    0              0                   0   \n",
       "\n",
       "      url_ip_present  url_entropy  url_port  html_num_tags('iframe')  \\\n",
       "0                  0     4.844913         0                        0   \n",
       "1                  0     4.246157         0                        1   \n",
       "2                  0     4.612835         0                        0   \n",
       "3                  0     4.238521         0                        0   \n",
       "4                  0     4.240669         0                        0   \n",
       "...              ...          ...       ...                      ...   \n",
       "2436               0     4.738082         0                        1   \n",
       "2437               0     4.080351         0                        0   \n",
       "2438               0     4.359443         0                        0   \n",
       "2439               1     4.260333         0                        0   \n",
       "2440               0     4.155498         0                        3   \n",
       "\n",
       "      html_num_tags('script')  html_num_tags('embed')  \\\n",
       "0                    5.000000                       0   \n",
       "1                    8.763931                       0   \n",
       "2                    6.000000                       3   \n",
       "3                    8.763931                       0   \n",
       "4                    8.763931                       0   \n",
       "...                       ...                     ...   \n",
       "2436                18.000000                       0   \n",
       "2437                27.000000                       0   \n",
       "2438                 8.000000                       0   \n",
       "2439                 3.000000                       0   \n",
       "2440                36.000000                       0   \n",
       "\n",
       "      html_num_tags('object')  html_num_tags('div')  html_num_tags('head')  \\\n",
       "0                           0                    12                      1   \n",
       "1                           0                   158                      1   \n",
       "2                           3                    34                      1   \n",
       "3                           0                    29                      1   \n",
       "4                           0                    41                      1   \n",
       "...                       ...                   ...                    ...   \n",
       "2436                        0                    79                      1   \n",
       "2437                        0                    57                      1   \n",
       "2438                        0                   199                      1   \n",
       "2439                        0                    90                      1   \n",
       "2440                        0                   162                      1   \n",
       "\n",
       "      html_num_tags('body')  html_num_tags('form')  html_num_tags('a')  \n",
       "0                         1                    1.0            3.000000  \n",
       "1                         1                    1.0           66.969697  \n",
       "2                         1                    0.0          136.000000  \n",
       "3                         1                    1.0            2.000000  \n",
       "4                         1                    1.0           66.969697  \n",
       "...                     ...                    ...                 ...  \n",
       "2436                      1                    1.0          119.000000  \n",
       "2437                      1                    1.0           66.969697  \n",
       "2438                      1                    2.0           66.969697  \n",
       "2439                      1                    2.0           25.000000  \n",
       "2440                      1                    4.0          213.000000  \n",
       "\n",
       "[2441 rows x 20 columns]"
      ]
     },
     "execution_count": 77,
     "metadata": {},
     "output_type": "execute_result"
    }
   ],
   "source": [
    "test"
   ]
  },
  {
   "cell_type": "code",
   "execution_count": 78,
   "metadata": {},
   "outputs": [
    {
     "data": {
      "text/plain": [
       "html_num_tags('form')\n",
       "0.0      643\n",
       "1.0     1446\n",
       "2.0      222\n",
       "3.0       68\n",
       "4.0       24\n",
       "5.0       19\n",
       "6.0        3\n",
       "7.0       12\n",
       "12.0       1\n",
       "19.0       3\n",
       "Name: url_len, dtype: int64"
      ]
     },
     "execution_count": 78,
     "metadata": {},
     "output_type": "execute_result"
    }
   ],
   "source": [
    "test.groupby(by=\"html_num_tags('form')\")['url_len'].count()"
   ]
  },
  {
   "cell_type": "code",
   "execution_count": 79,
   "metadata": {},
   "outputs": [],
   "source": [
    "test.to_csv('test_val_4.csv', index=False)"
   ]
  },
  {
   "cell_type": "code",
   "execution_count": 80,
   "metadata": {},
   "outputs": [],
   "source": [
    "data = pd.read_csv('train_dataset.csv')"
   ]
  },
  {
   "cell_type": "code",
   "execution_count": 81,
   "metadata": {},
   "outputs": [
    {
     "data": {
      "image/png": "[encoded data removed]",
      "text/plain": [
       "<Figure size 640x480 with 1 Axes>"
      ]
     },
     "metadata": {},
     "output_type": "display_data"
    }
   ],
   "source": [
    "sns.regplot(data=data, y='url_num_hyphens_dom', x=\"url_path_len\")\n",
    "plt.show()"
   ]
  },
  {
   "cell_type": "code",
   "execution_count": null,
   "metadata": {},
   "outputs": [],
   "source": [
    "test = pd.read_csv('test_dataset_v01.csv')\n",
    "test.shape"
   ]
  },
  {
   "cell_type": "code",
   "execution_count": null,
   "metadata": {},
   "outputs": [],
   "source": [
    "test.loc[test['url_domain_len'].isna(), 'url_domain_len'] = test['url_hostname_len']"
   ]
  },
  {
   "cell_type": "code",
   "execution_count": null,
   "metadata": {},
   "outputs": [],
   "source": [
    "drop_col = ['url_chinese_present', \"html_num_tags('applet')\", 'Unnamed: 0', 'url_hostname_len']\n",
    "test = test.drop(drop_col, axis=1)\n",
    "test.isna().sum()"
   ]
  },
  {
   "cell_type": "code",
   "execution_count": null,
   "metadata": {},
   "outputs": [],
   "source": [
    "test.loc[(test['url_num_hyphens_dom'] == 0) & (test[\"html_num_tags('div')\"] >= 70) & test[\"url_path_len\"].isna()]\n",
    "test.loc[(test['url_num_hyphens_dom'] == 0) & (test[\"html_num_tags('div')\"] >= 70) & test[\"url_path_len\"].isna(), \"url_path_len\"] = 37\n",
    "test.loc[(test['url_num_hyphens_dom'] >= 2) & (test[\"html_num_tags('div')\"] <= 40) & test[\"url_path_len\"].isna()]\n",
    "test.loc[(test['url_num_hyphens_dom'] >= 2) & (test[\"html_num_tags('div')\"] <= 40) & test[\"url_path_len\"].isna(), \"url_path_len\"] = 21\n",
    "test.loc[(test['url_num_hyphens_dom'] == 0) & (test[\"html_num_tags('div')\"] >= 70) & test[\"html_num_tags('script')\"].isna()]\n",
    "test.loc[(test['url_num_hyphens_dom'] == 0) & (test[\"html_num_tags('div')\"] >= 70) & test[\"html_num_tags('script')\"].isna(), \"html_num_tags('script')\"] = 17\n",
    "test.loc[(test['url_num_hyphens_dom'] >= 2) & (test[\"html_num_tags('div')\"] <= 40) & test[\"html_num_tags('script')\"].isna()]\n",
    "test.loc[(test['url_num_hyphens_dom'] >= 2) & (test[\"html_num_tags('div')\"] <= 40) & test[\"html_num_tags('script')\"].isna(), \"html_num_tags('script')\"] = 7\n",
    "test.loc[(test['url_num_hyphens_dom'] == 0) & (test[\"html_num_tags('div')\"] >= 70) & test[\"html_num_tags('a')\"].isna()]\n",
    "test.loc[(test['url_num_hyphens_dom'] == 0) & (test[\"html_num_tags('div')\"] >= 70) & test[\"html_num_tags('a')\"].isna(), \"html_num_tags('a')\"] = 100\n",
    "test.loc[(test['url_num_hyphens_dom'] >= 2) & (test[\"html_num_tags('div')\"] <= 40) & test[\"html_num_tags('a')\"].isna()]\n",
    "test.loc[(test['url_num_hyphens_dom'] >= 2) & (test[\"html_num_tags('div')\"] <= 40) & test[\"html_num_tags('a')\"].isna(), \"html_num_tags('a')\"] = 23\n",
    "test[\"html_num_tags('form')\"] = test[\"html_num_tags('form')\"].fillna(1)\n"
   ]
  },
  {
   "cell_type": "code",
   "execution_count": null,
   "metadata": {},
   "outputs": [],
   "source": [
    "test['url_path_len'] = test['url_path_len'].fillna(test['url_path_len'].mean())\n",
    "test['url_domain_len'] = test['url_domain_len'].fillna(test['url_domain_len'].mean())\n",
    "test[\"html_num_tags('a')\"] = test[\"html_num_tags('a')\"].fillna(test[\"html_num_tags('a')\"].mean())\n",
    "test[\"html_num_tags('script')\"] = test[\"html_num_tags('script')\"].fillna(test[\"html_num_tags('script')\"].mean())"
   ]
  },
  {
   "cell_type": "code",
   "execution_count": null,
   "metadata": {},
   "outputs": [],
   "source": [
    "data.loc[data['Result_v1'] == 1].describe()"
   ]
  },
  {
   "cell_type": "code",
   "execution_count": null,
   "metadata": {},
   "outputs": [],
   "source": [
    "data.loc[data['Result_v1'] == 0].describe()"
   ]
  },
  {
   "cell_type": "code",
   "execution_count": null,
   "metadata": {},
   "outputs": [],
   "source": [
    "test.describe()"
   ]
  },
  {
   "cell_type": "code",
   "execution_count": null,
   "metadata": {},
   "outputs": [],
   "source": [
    "test.to_csv('test_val_1.csv', index=False)"
   ]
  }
 ],
 "metadata": {
  "kernelspec": {
   "display_name": "Python 3.9.12 ('base')",
   "language": "python",
   "name": "python3"
  },
  "language_info": {
   "codemirror_mode": {
    "name": "ipython",
    "version": 3
   },
   "file_extension": ".py",
   "mimetype": "text/x-python",
   "name": "python",
   "nbconvert_exporter": "python",
   "pygments_lexer": "ipython3",
   "version": "3.9.13"
  },
  "orig_nbformat": 4,
  "vscode": {
   "interpreter": {
    "hash": "5f7678e3cf7566e35dc0bd53f9a2e61d18c90ac4f700ab60c30179035bddd9e2"
   }
  }
 },
 "nbformat": 4,
 "nbformat_minor": 2
}
